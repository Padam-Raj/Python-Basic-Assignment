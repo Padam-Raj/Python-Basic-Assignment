{
 "cells": [
  {
   "cell_type": "markdown",
   "id": "446bd182-96fc-4c1a-8f25-cd081955eb8a",
   "metadata": {},
   "source": []
  },
  {
   "cell_type": "code",
   "execution_count": null,
   "id": "8d8dfaed-bfdc-491f-b3a5-c29ef6d0d95b",
   "metadata": {},
   "outputs": [],
   "source": [
    "#Python Basics Questions"
   ]
  },
  {
   "cell_type": "code",
   "execution_count": null,
   "id": "074d74aa-2526-4fd1-96e2-c8af1d611f37",
   "metadata": {},
   "outputs": [],
   "source": [
    "#Ques 1- What is Python, and why is it popular?\n",
    "\"\"\"\n",
    "Python is a computer programming language just like c, c++, java, etc. with certain differences, developed in 1991.\n",
    "Popularity of python is due to-\n",
    "1. It is a versatile general purpose language. All the frameworks are available in python programming language, \n",
    "    whether front end or back end.\n",
    "2. Easy to learn, use and read.\n",
    "3. widely used in many areas of software development and data science due to its clean syntax\n",
    "4. have a lot of libraries(more than 137000)\n",
    "5. have huge active community\n",
    "\"\"\""
   ]
  },
  {
   "cell_type": "code",
   "execution_count": null,
   "id": "c0b664b3-ca62-476c-a679-2bef98148669",
   "metadata": {},
   "outputs": [],
   "source": [
    "#Ques 2- What is an interpreter in Python?\n",
    "\"\"\"\n",
    "Python is an interpreted language, unlike c, java, etc which uses compiler. It converts the high-level command to low-level \n",
    "instructions. Code is interpreted line by line and excuted immediately.\n",
    "common python interpretors are CPython, PyPy, Jython, etc.\n",
    "\"\"\""
   ]
  },
  {
   "cell_type": "code",
   "execution_count": 85,
   "id": "4ca93800-161d-43fb-9d37-1c813d6c19e9",
   "metadata": {},
   "outputs": [],
   "source": [
    "#Ques 3- What are pre-defined keywords in Python?\n",
    "\"\"\"\n",
    "Pre-defined keywords or the reserved words have special meaning in python. They are intended to perform certain functions specifical\n",
    "assigned to them. Example- \"print\" keyword will print desired message on the output screen.  There are many keywords in python.\n",
    "All keywords in python are mentioned in Ques 3 in practical questions.\n",
    "\"\"\""
   ]
  },
  {
   "cell_type": "code",
   "execution_count": null,
   "id": "be99037c-4ce3-4587-b2de-cef277f1e463",
   "metadata": {},
   "outputs": [],
   "source": [
    "#Ques 4- Can keywords be used as variable names?\n",
    "\"\"\"\n",
    "A keyword should not be used as variable. It will not throw error while using as variable but functionality of keyword could not be \n",
    "obtained afterwards. kernel has to be restarted so that keyword could perform it desired function.\n",
    "\"\"\""
   ]
  },
  {
   "cell_type": "code",
   "execution_count": null,
   "id": "b8082f61-9b35-46b2-b9c5-82a3f22d76f7",
   "metadata": {},
   "outputs": [],
   "source": [
    "#Ques 5- What is mutability in Python?\n",
    "\"\"\"\n",
    "Mutability means whether an object can be altered after creation or not.\n",
    "There are some examples in python which are mutable and some are immutable.\n",
    "List is mutable as it can be appended, deleted, sorted, changed after creation.\n",
    "mutables store the data that need to be changed frequently.\n",
    "\"\"\""
   ]
  },
  {
   "cell_type": "code",
   "execution_count": null,
   "id": "9d27392d-2ad1-490f-8802-0ec185b8c3ff",
   "metadata": {},
   "outputs": [],
   "source": [
    "#Ques 6- Why are lists mutable, but tuples are immutable?\n",
    "\"\"\"\n",
    "Lists are mutable, means it can be altered , even deleted, after creation. It is used where data needs to be changed frequently. \n",
    "Eg items in inventory, sorting, shopping cart, etc\n",
    "Tuples are immutable because it can not be changed once created. It stores data that should not be changed. \n",
    "It is used in dictionary keys, coordinates, sensitive records, etc\n",
    "\"\"\""
   ]
  },
  {
   "cell_type": "code",
   "execution_count": null,
   "id": "004285e4-c3fe-413d-a485-3e94a86d7a8c",
   "metadata": {},
   "outputs": [],
   "source": [
    "#Ques 7- What is the difference between \"==\" and \"is\" operators in Python?\n",
    "\"\"\"\n",
    "They are two different opertors. \"==\" is Equality operator and compares values of two objects. It returns true if contents are same.\n",
    "eg. \n",
    "a=[1,2,3]  \n",
    "b=[1,2,3]\n",
    "a==b will come out to be true.\n",
    "On the other hand \"is\" is Identity operator and checks whether two variables point to the same object in memory. It returns true only\n",
    "if they are literally the same object.\n",
    "In the above example, a is b will come out to be false.\n",
    "\"\"\""
   ]
  },
  {
   "cell_type": "code",
   "execution_count": 83,
   "id": "06caa2fc-9a60-4454-b9c0-734fc6b690a2",
   "metadata": {},
   "outputs": [],
   "source": [
    "#Ques 8- What are logical operators in python?\n",
    "\"\"\"\n",
    "Logical operators are used to combine multiple boolean expressions and conditions, and return true or false, so that futher actions \n",
    "could be taken. Examples of logical operators are \"and\", \"or\", \"not\". \n",
    "\n",
    "and-\n",
    "inp1   inp2   output\n",
    "true   true   true\n",
    "true   false   false\n",
    "false  true   false\n",
    "false  false  false\n",
    "\n",
    "or-\n",
    "inp1   inp2   output\n",
    "true    true   true\n",
    "true   false   true\n",
    "false   true   true\n",
    "false   false  false\n",
    "\n",
    "not-\n",
    "not true= false\n",
    "not false= true\n",
    "\n",
    "Ques 8 in the practical questions demonstrate the execution of logical operates.\n",
    "\"\"\""
   ]
  },
  {
   "cell_type": "code",
   "execution_count": null,
   "id": "04049ac9-d345-4da1-a7bf-f215ad42083e",
   "metadata": {},
   "outputs": [],
   "source": [
    "#Ques 9- What is type casting in Python?\n",
    "\"\"\"\n",
    "Type casting means converting one datatype to another. It is used when data present in one datatype is required but in different \n",
    "datatype. eg. a=\"9\", here 9 is available in string datatype, but in order to use this 9 in calculations we need to convert it to int or \n",
    "float. int(a) is used to convert into integer and float(a) is used to convert into float value. \n",
    "However to convert a string into a int, string must contain a number only because a word cannot be converted into a number.\n",
    "\"\"\""
   ]
  },
  {
   "cell_type": "code",
   "execution_count": null,
   "id": "ba337ab0-a61b-44e6-93ad-c962b6c8b24f",
   "metadata": {},
   "outputs": [],
   "source": [
    "#Ques 10- What is the difference between implicit and explicit type casting?\n",
    "\"\"\"\n",
    "Implicit type casting is automatic and python itself allocate datatype in this case. \n",
    "Eg. a=4 in this a is automatically taken as int b=\"abc\" here b is automatically taken as string.\n",
    "Explicit typecasting is done manually. Eg. in above eg of a=4, if this has to be converted in string, that can be done by str(a). It \n",
    "can futher be converted into float by float(a).\n",
    "\"\"\""
   ]
  },
  {
   "cell_type": "code",
   "execution_count": null,
   "id": "0f505066-7735-44d7-9be8-0287c73c45f7",
   "metadata": {},
   "outputs": [],
   "source": [
    "#Ques 11- What is the purpose of conditional statements in  Python?\n",
    "\"\"\"\n",
    "Conditional statements in python are used to make decisions in code, based on certain conditions, instead of executing every line \n",
    "sequentially. They perform actions based on input or data and whether the given condition is true or false. \n",
    "Main examples of conditional statements are if, elif, else.\n",
    "\"\"\""
   ]
  },
  {
   "cell_type": "code",
   "execution_count": null,
   "id": "cb709aaf-7d21-471b-b41f-24920b6cb63e",
   "metadata": {},
   "outputs": [],
   "source": [
    "#Ques 12- How does the elif statement work?\n",
    "\"\"\"\n",
    "elif stands for else if. It is used in conditional statements to check multiple conditions one after the other.\n",
    "First \"if\" condition is evaluated. If the \"if\" is \"false\" then all \"elif\" evaluated. If all resulted as \"false\" then \"else\" is executed.\n",
    "Ques 11 in practicle questions demonstrate the use of elif statement.\n",
    "\"\"\""
   ]
  },
  {
   "cell_type": "code",
   "execution_count": null,
   "id": "32250f9c-4eb4-4370-a597-2e25a4ce574a",
   "metadata": {},
   "outputs": [],
   "source": [
    "#Ques 13- What is the difference between for and while loops?\n",
    "\"\"\"\n",
    "for loop-                                                             while loop-\n",
    "1. used when number of iterations are known in advance.                1. while loops are flexible and used when the number of \n",
    "                                                                          iterations depends on a dynamic condition or is unknown.\n",
    "2. iterates over a sequence like a list or range                       2. repeats while a condition is true\n",
    "3. risk of infinite loop is less as the range is known.                3. risk of infinite loop is more if the condition is always true\n",
    "4. syntax= for i in range[10]:                                         4. syntax= while i>0:\n",
    "               print(i)                                                               print(i)\n",
    "\"\"\""
   ]
  },
  {
   "cell_type": "code",
   "execution_count": null,
   "id": "d7916fd7-8010-4152-a42f-03cbb24a228c",
   "metadata": {},
   "outputs": [],
   "source": [
    "#Ques 14- Describe a scenario where a while loop is more suitable than a for loop.\n",
    "\"\"\"\n",
    "while loop is more suitable in the case number of iterations are not known in advance, but there is a condition present. \n",
    "For example, in case of throwing a dice and there is need to iterate the loop untill 6 comes. Here we will use \"while i!=6\".\n",
    "\"\"\""
   ]
  },
  {
   "cell_type": "code",
   "execution_count": null,
   "id": "1de25f87-62a8-4669-9396-fa9e4eccc55b",
   "metadata": {},
   "outputs": [],
   "source": []
  },
  {
   "cell_type": "code",
   "execution_count": null,
   "id": "e248789c-12bc-4b0d-9fe1-420384c57855",
   "metadata": {},
   "outputs": [],
   "source": []
  },
  {
   "cell_type": "code",
   "execution_count": null,
   "id": "457314a4-7e81-41ab-9edb-c184c1a773f3",
   "metadata": {},
   "outputs": [],
   "source": []
  },
  {
   "cell_type": "code",
   "execution_count": null,
   "id": "ca2f46f3-7a63-466e-9ea7-fe28cdeefa68",
   "metadata": {},
   "outputs": [],
   "source": []
  },
  {
   "cell_type": "code",
   "execution_count": null,
   "id": "0eb1443b-4511-4ccd-8c8e-fcb8af37789b",
   "metadata": {},
   "outputs": [],
   "source": []
  },
  {
   "cell_type": "code",
   "execution_count": 1,
   "id": "7ad8934e-b792-470c-8afb-e55cd875516e",
   "metadata": {},
   "outputs": [],
   "source": [
    "# Practical Questions"
   ]
  },
  {
   "cell_type": "code",
   "execution_count": 2,
   "id": "097911e6-2c0f-496a-9d16-f45f432a19e5",
   "metadata": {},
   "outputs": [
    {
     "name": "stdout",
     "output_type": "stream",
     "text": [
      "Hello, World!\n"
     ]
    }
   ],
   "source": [
    "#Ques 1- Write a Python program to print \"Hello, World!\"\n",
    "print(\"Hello, World!\")"
   ]
  },
  {
   "cell_type": "code",
   "execution_count": 8,
   "id": "d0debbe9-55d8-4f77-b7ef-69601fc79ed7",
   "metadata": {},
   "outputs": [
    {
     "name": "stdout",
     "output_type": "stream",
     "text": [
      "My name is Padam Raj\n",
      "My age is 31  years\n"
     ]
    }
   ],
   "source": [
    "#Ques 2- Write a Python program that displays your name and age.\n",
    "name= \"Padam Raj\"\n",
    "age = 31\n",
    "print(\"My name is\" , name)\n",
    "print(\"My age is\" , age, \"years\")"
   ]
  },
  {
   "cell_type": "code",
   "execution_count": 39,
   "id": "625a02f6-f25e-4e1a-b47d-d4d849e90caa",
   "metadata": {
    "scrolled": true
   },
   "outputs": [
    {
     "name": "stdout",
     "output_type": "stream",
     "text": [
      "All pre-defined keywords in python are:\n",
      "False, None, True, and, as, assert, async, await, break, class, continue, def, del, elif, else, except, finally, for, from, global, if, import, in, is, lambda, nonlocal, not, or, pass, raise, return, try, while, with, yield, "
     ]
    }
   ],
   "source": [
    "#Ques 3- Write code to print all the pre-defined keywords in Python using the keyword library.\n",
    "import keyword\n",
    "a=keyword.kwlist\n",
    "print(\"All pre-defined keywords in python are:\")\n",
    "for i in a:\n",
    "    print(i , end=\", \")\n"
   ]
  },
  {
   "cell_type": "code",
   "execution_count": 34,
   "id": "40916ab9-d1ac-44d6-ac53-8f9f154f71cb",
   "metadata": {},
   "outputs": [
    {
     "name": "stdin",
     "output_type": "stream",
     "text": [
      "Please enter your input for\n"
     ]
    },
    {
     "name": "stdout",
     "output_type": "stream",
     "text": [
      "this is a python keyword\n"
     ]
    }
   ],
   "source": [
    "#Ques 4- Write a program that checks if a given word is a Python keyword.\n",
    "import keyword\n",
    "inp=input(\"Please enter your input\")\n",
    "if keyword.iskeyword(inp):\n",
    "    print(\"this is a python keyword\")\n",
    "else:\n",
    "    print(\"this is not a python keyword\")"
   ]
  },
  {
   "cell_type": "code",
   "execution_count": 48,
   "id": "cb4d9d18-62c6-4bde-a10f-b4764b86b651",
   "metadata": {},
   "outputs": [
    {
     "name": "stdout",
     "output_type": "stream",
     "text": [
      "original list is: [5, 8.4, 'Ram', False]\n",
      "new list is: [5, 'Sita', 'Ram', False]\n"
     ]
    }
   ],
   "source": [
    "#Ques 5- Create a list and tuple in Python, and demonstrate how attempting to change an element works differently for each.\n",
    "\"\"\"\n",
    "list is mutable and syntax is []\n",
    "tuple is immutable and syntax is ()\n",
    "\"\"\"\n",
    "#demonstration of list\n",
    "mylist=[5, 8.4, \"Ram\", False]\n",
    "print(\"original list is:\", mylist)\n",
    "mylist[1]=\"Sita\"\n",
    "print(\"new list is:\", mylist)"
   ]
  },
  {
   "cell_type": "code",
   "execution_count": 50,
   "id": "231ac077-a79a-4091-b2ce-110ec822ad3f",
   "metadata": {},
   "outputs": [
    {
     "name": "stdout",
     "output_type": "stream",
     "text": [
      "original tuple is: (5, 8.4, 'Ram', False)\n"
     ]
    },
    {
     "ename": "TypeError",
     "evalue": "'tuple' object does not support item assignment",
     "output_type": "error",
     "traceback": [
      "\u001b[31m---------------------------------------------------------------------------\u001b[39m",
      "\u001b[31mTypeError\u001b[39m                                 Traceback (most recent call last)",
      "\u001b[36mCell\u001b[39m\u001b[36m \u001b[39m\u001b[32mIn[50]\u001b[39m\u001b[32m, line 4\u001b[39m\n\u001b[32m      2\u001b[39m mytuple=(\u001b[32m5\u001b[39m, \u001b[32m8.4\u001b[39m, \u001b[33m\"\u001b[39m\u001b[33mRam\u001b[39m\u001b[33m\"\u001b[39m, \u001b[38;5;28;01mFalse\u001b[39;00m)\n\u001b[32m      3\u001b[39m \u001b[38;5;28mprint\u001b[39m(\u001b[33m\"\u001b[39m\u001b[33moriginal tuple is:\u001b[39m\u001b[33m\"\u001b[39m, mytuple)\n\u001b[32m----> \u001b[39m\u001b[32m4\u001b[39m \u001b[43mmytuple\u001b[49m\u001b[43m[\u001b[49m\u001b[32;43m2\u001b[39;49m\u001b[43m]\u001b[49m=\u001b[33m\"\u001b[39m\u001b[33mSita\u001b[39m\u001b[33m\"\u001b[39m\n\u001b[32m      5\u001b[39m \u001b[38;5;66;03m#this will through an error because tuple is immutable and can not be modified.\u001b[39;00m\n",
      "\u001b[31mTypeError\u001b[39m: 'tuple' object does not support item assignment"
     ]
    }
   ],
   "source": [
    "#demostration of tuple\n",
    "mytuple=(5, 8.4, \"Ram\", False)\n",
    "print(\"original tuple is:\", mytuple)\n",
    "mytuple[2]=\"Sita\"\n",
    "#this will through an error because tuple is immutable and can not be modified."
   ]
  },
  {
   "cell_type": "code",
   "execution_count": 43,
   "id": "595277e5-e6a4-4cc1-8d95-97bd2dc45a1c",
   "metadata": {},
   "outputs": [
    {
     "name": "stdout",
     "output_type": "stream",
     "text": [
      "List Items [4, 'Ram', 9.8, True]\n"
     ]
    },
    {
     "name": "stdin",
     "output_type": "stream",
     "text": [
      "please choose the element from 1 to 4 that you want to change: 2\n",
      "please enter the desired value that you want to update: padam\n"
     ]
    },
    {
     "name": "stdout",
     "output_type": "stream",
     "text": [
      "Updated list is: [4, 'padam', 9.8, True]\n"
     ]
    }
   ],
   "source": [
    "#Ques 6- Write a function to demonstrate the behavior of mutable and immutable arguements.\n",
    "#mutable example is list, etc\n",
    "list_items=[4, \"Ram\", 9.8, True]\n",
    "print(\"List Items\", list_items)\n",
    "i=int(input(\"please choose the element from 1 to 4 that you want to change:\"))\n",
    "i-=1\n",
    "\n",
    "list_items[i]=input(\"please enter the desired value that you want to update:\")\n",
    "print(\"Updated list is:\", list_items)\n"
   ]
  },
  {
   "cell_type": "code",
   "execution_count": 47,
   "id": "9bf0f6a0-b8de-4127-b71b-21a5f23e7481",
   "metadata": {},
   "outputs": [
    {
     "ename": "TypeError",
     "evalue": "'str' object does not support item assignment",
     "output_type": "error",
     "traceback": [
      "\u001b[31m---------------------------------------------------------------------------\u001b[39m",
      "\u001b[31mTypeError\u001b[39m                                 Traceback (most recent call last)",
      "\u001b[36mCell\u001b[39m\u001b[36m \u001b[39m\u001b[32mIn[47]\u001b[39m\u001b[32m, line 3\u001b[39m\n\u001b[32m      1\u001b[39m \u001b[38;5;66;03m#immutable example is int, str,etc\u001b[39;00m\n\u001b[32m      2\u001b[39m name=\u001b[33m\"\u001b[39m\u001b[33mPadam\u001b[39m\u001b[33m\"\u001b[39m\n\u001b[32m----> \u001b[39m\u001b[32m3\u001b[39m \u001b[43mname\u001b[49m\u001b[43m[\u001b[49m\u001b[32;43m2\u001b[39;49m\u001b[43m]\u001b[49m=\u001b[33m\"\u001b[39m\u001b[33mp\u001b[39m\u001b[33m\"\u001b[39m\n\u001b[32m      4\u001b[39m \u001b[38;5;66;03m#this will through an error as str is immutable\u001b[39;00m\n",
      "\u001b[31mTypeError\u001b[39m: 'str' object does not support item assignment"
     ]
    }
   ],
   "source": [
    "#immutable examples are int, str,etc\n",
    "name=\"Padam\"\n",
    "name[2]=\"p\"\n",
    "#this will through an error as str is immutable"
   ]
  },
  {
   "cell_type": "code",
   "execution_count": 27,
   "id": "ae0d07c8-6e2e-4d12-abdd-87ec27678f7f",
   "metadata": {},
   "outputs": [
    {
     "name": "stdin",
     "output_type": "stream",
     "text": [
      "please enter first number 4\n",
      "please enter second number 5\n"
     ]
    },
    {
     "name": "stdout",
     "output_type": "stream",
     "text": [
      "Addition of two numbers is: 9\n",
      "Subtraction of two numbers is: 1\n",
      "Division of two numbers is: 1.25\n",
      "Multiplication of two numbers is: 20\n"
     ]
    }
   ],
   "source": [
    "#Ques 7- Write a program that performs basic arithmetic operations on two user-input numbers.\n",
    "num1=int(input(\"please enter first number\"))\n",
    "num2=int(input(\"please enter second number\"))\n",
    "print(\"Addition of two numbers is:\",num1+num2)\n",
    "if num1>num2:\n",
    "    print(\"Subtraction of two numbers is:\", num1-num2)\n",
    "    print(\"Division of two numbers is:\", num1/num2)\n",
    "else:\n",
    "    print(\"Subtraction of two numbers is:\", num2-num1)\n",
    "    print(\"Division of two numbers is:\",num2/num1)\n",
    "print(\"Multiplication of two numbers is:\",num1*num2)"
   ]
  },
  {
   "cell_type": "code",
   "execution_count": null,
   "id": "4e15ae79-7781-4328-bcbc-f76326c52486",
   "metadata": {},
   "outputs": [],
   "source": [
    "#Ques 8- Write a program to demonstrate the use of logical operators.\n",
    "#logical operators examples are \"and, or and not\"\n",
    "#or\n",
    "a=int(input(\"Please enter first number\"))\n",
    "b=int(input(\"Please enter second number\"))\n",
    "if (a%2==0) or (b%2==0):\n",
    "    print(\"either one or both the numbers are even\")\n",
    "else:\n",
    "    print(\"both the numbers are odd\")\n"
   ]
  },
  {
   "cell_type": "code",
   "execution_count": 53,
   "id": "4657ce00-1f39-4f2a-adef-889184859c48",
   "metadata": {},
   "outputs": [
    {
     "name": "stdin",
     "output_type": "stream",
     "text": [
      "Please enter first number 6\n",
      "Please enter second number 9\n"
     ]
    },
    {
     "name": "stdout",
     "output_type": "stream",
     "text": [
      "either one or both the numbers are odd\n"
     ]
    }
   ],
   "source": [
    "#and \n",
    "a=int(input(\"Please enter first number\"))\n",
    "b=int(input(\"Please enter second number\"))\n",
    "if (a%2==0) and (b%2==0):\n",
    "    print(\"Both the numbers are even\")\n",
    "else:\n",
    "    print(\"either one or both the numbers are odd\")"
   ]
  },
  {
   "cell_type": "code",
   "execution_count": 56,
   "id": "0b9a0908-d90b-4153-a2cc-8cdd401e7c36",
   "metadata": {},
   "outputs": [
    {
     "name": "stdin",
     "output_type": "stream",
     "text": [
      "Please enter first number 6\n",
      "Please enter second number 9\n"
     ]
    },
    {
     "name": "stdout",
     "output_type": "stream",
     "text": [
      "either one or both the numbers are even\n"
     ]
    }
   ],
   "source": [
    "#not  \n",
    "# not True is False\n",
    "# not False is True\n",
    "a=int(input(\"Please enter first number\"))\n",
    "b=int(input(\"Please enter second number\"))\n",
    "if not ((a%2==0) or (b%2==0)):\n",
    "    print(\"both the numbers are odd\")\n",
    "else:\n",
    "    print(\"either one or both the numbers are even\")"
   ]
  },
  {
   "cell_type": "code",
   "execution_count": 23,
   "id": "e60323cd-8d33-40b8-8145-5c3e855e67a5",
   "metadata": {},
   "outputs": [
    {
     "name": "stdin",
     "output_type": "stream",
     "text": [
      "please enter a number 1\n"
     ]
    },
    {
     "name": "stdout",
     "output_type": "stream",
     "text": [
      "the number entered by you in integer is: 1\n",
      "the number entered by you in float is: 1.0\n",
      "the number entered by you in boolean is: True\n"
     ]
    }
   ],
   "source": [
    "#Ques 9- Write a Python program to convert user input from string to integer, float, and boolean types.\n",
    "text=input(\"please enter a number\")\n",
    "num=int(text)\n",
    "fl=float(text)\n",
    "b=bool(int((text)))\n",
    "print(\"the number entered by you in integer is:\", num)\n",
    "print(\"the number entered by you in float is:\", fl)\n",
    "print(\"the number entered by you in boolean is:\", b)"
   ]
  },
  {
   "cell_type": "code",
   "execution_count": 78,
   "id": "f248bc6d-d443-4af3-be1c-5133da882574",
   "metadata": {},
   "outputs": [
    {
     "name": "stdout",
     "output_type": "stream",
     "text": [
      "original list: [5, 3, 7, 6]\n",
      "after converting to float: [5.0, 3.0, 7.0, 6.0]\n",
      "after converting back to int: [5, 3, 7, 6]\n"
     ]
    }
   ],
   "source": [
    "#Ques 10- Write code to demonstrate type casting with list elements.\n",
    "mylist=[5,3,7,6]\n",
    "n=0\n",
    "print(\"original list:\", mylist)\n",
    "while n<len(mylist):\n",
    "    mylist[n]= float(mylist[n])\n",
    "    n+=1\n",
    "print(\"after converting to float:\", mylist )\n",
    "n=0\n",
    "while n<len(mylist):\n",
    "    mylist[n]= int(mylist[n])\n",
    "    n+=1\n",
    "print(\"after converting back to int:\", mylist )\n",
    "\n"
   ]
  },
  {
   "cell_type": "code",
   "execution_count": 79,
   "id": "a4f71275-4b8a-43be-98b2-10c43d1753ec",
   "metadata": {},
   "outputs": [
    {
     "name": "stdin",
     "output_type": "stream",
     "text": [
      "please enter a number -9\n"
     ]
    },
    {
     "name": "stdout",
     "output_type": "stream",
     "text": [
      "It is a negative number\n"
     ]
    }
   ],
   "source": [
    "#Ques 11- Write a program that checks if a number is positive, negative, or zero.\n",
    "num= int(input (\"please enter a number\"))\n",
    "if num<0:\n",
    "    print(\"It is a negative number\")\n",
    "elif num>0:\n",
    "    print(\"It is a positive number\")\n",
    "else:\n",
    "    print(\"It is zero\")"
   ]
  },
  {
   "cell_type": "code",
   "execution_count": 29,
   "id": "981f2bd0-82c7-4c4f-8152-7e13f8ebbe1d",
   "metadata": {},
   "outputs": [
    {
     "name": "stdout",
     "output_type": "stream",
     "text": [
      "1 2 3 4 5 6 7 8 9 10 "
     ]
    }
   ],
   "source": [
    "#Ques 12- Write a for loop to print numbers from 1 to 10.\n",
    "for i in range(11):\n",
    "    if i==0:\n",
    "        continue\n",
    "    print(i, end=\" \")"
   ]
  },
  {
   "cell_type": "code",
   "execution_count": 4,
   "id": "d43bbf35-e7ef-45f3-ba78-3363ddc30933",
   "metadata": {},
   "outputs": [
    {
     "name": "stdout",
     "output_type": "stream",
     "text": [
      " the sum of all even numbers between 1 to 50 using while loop is  650\n"
     ]
    }
   ],
   "source": [
    "#Ques 13 - Write a Python program to find the sum of all even numbers between 1 and 50.\n",
    "#using while loop\n",
    "a= 1\n",
    "b= 0\n",
    "\n",
    "while a<=50:\n",
    "    if a % 2== 0:\n",
    "        b=a+b\n",
    "    a=a+1\n",
    "    \n",
    "print(\" the sum of all even numbers between 1 to 50 using while loop is \", b)       "
   ]
  },
  {
   "cell_type": "code",
   "execution_count": 5,
   "id": "b8f0a6b1-81be-4f60-ac7e-e981e91de89d",
   "metadata": {},
   "outputs": [
    {
     "name": "stdout",
     "output_type": "stream",
     "text": [
      "the sum of all even numbers between 1 to 50 using for loop is  650\n"
     ]
    }
   ],
   "source": [
    "#using for loop\n",
    "\n",
    "a=0\n",
    "for i in range(51):\n",
    "    if i%2==0:\n",
    "        a+=i\n",
    "print(\"the sum of all even numbers between 1 to 50 using for loop is \", a)\n"
   ]
  },
  {
   "cell_type": "code",
   "execution_count": 16,
   "id": "d576041e-4eed-4776-8645-86fcde0941d2",
   "metadata": {},
   "outputs": [
    {
     "name": "stdin",
     "output_type": "stream",
     "text": [
      "Please enter your name padam\n"
     ]
    },
    {
     "name": "stdout",
     "output_type": "stream",
     "text": [
      "reverse order of your name is: madap\n"
     ]
    }
   ],
   "source": [
    "#Ques 14- Write a program to reverse a string using a while loop.\n",
    "# using positive index\n",
    "name=input(\"Please enter your name\")\n",
    "rev=\"\"\n",
    "length=len(name)-1\n",
    "while length>=0:\n",
    "    rev+=name[length]\n",
    "    length-=1\n",
    "print(\"reverse order of your name is:\", rev)"
   ]
  },
  {
   "cell_type": "code",
   "execution_count": 42,
   "id": "fd47258b-3b65-4ede-934e-ec26d7d897c2",
   "metadata": {},
   "outputs": [
    {
     "name": "stdin",
     "output_type": "stream",
     "text": [
      "Please enter your name padam\n"
     ]
    },
    {
     "name": "stdout",
     "output_type": "stream",
     "text": [
      "reverse order of your name is: madap\n"
     ]
    }
   ],
   "source": [
    "#using negative index\n",
    "name=input(\"Please enter your name\")\n",
    "rev=\"\"\n",
    "i=1\n",
    "length=len(name)\n",
    "while i<=length:\n",
    "    rev+=name[-i]\n",
    "    i+=1\n",
    "print(\"reverse order of your name is:\", rev)"
   ]
  },
  {
   "cell_type": "code",
   "execution_count": 6,
   "id": "8c551672-e09e-4aba-919e-505ac1ab6e9a",
   "metadata": {},
   "outputs": [
    {
     "name": "stdin",
     "output_type": "stream",
     "text": [
      "Please enter a number: 5\n"
     ]
    },
    {
     "name": "stdout",
     "output_type": "stream",
     "text": [
      "Factorial of the number provided by you is: 120\n"
     ]
    }
   ],
   "source": [
    "#Ques 15- Write a Python program to calculate the factorial of a number provided by the user using a while loop.\n",
    "num= int(input(\"Please enter a number:\"))\n",
    "result=1\n",
    "while num>=1:\n",
    "    result*=num\n",
    "    num-=1\n",
    "print(\"Factorial of the number provided by you is:\", result)"
   ]
  },
  {
   "cell_type": "code",
   "execution_count": null,
   "id": "0770d9bc-3213-461f-bfb2-51a220c333cb",
   "metadata": {},
   "outputs": [],
   "source": []
  },
  {
   "cell_type": "code",
   "execution_count": null,
   "id": "fcd18d2f-753f-41e0-aab1-f1136a6a4e01",
   "metadata": {},
   "outputs": [],
   "source": []
  },
  {
   "cell_type": "code",
   "execution_count": null,
   "id": "1d7544bc-2949-4ed3-b994-6ec0a7af1dd6",
   "metadata": {},
   "outputs": [],
   "source": []
  }
 ],
 "metadata": {
  "kernelspec": {
   "display_name": "Python 3 (ipykernel)",
   "language": "python",
   "name": "python3"
  },
  "language_info": {
   "codemirror_mode": {
    "name": "ipython",
    "version": 3
   },
   "file_extension": ".py",
   "mimetype": "text/x-python",
   "name": "python",
   "nbconvert_exporter": "python",
   "pygments_lexer": "ipython3",
   "version": "3.13.3"
  }
 },
 "nbformat": 4,
 "nbformat_minor": 5
}
